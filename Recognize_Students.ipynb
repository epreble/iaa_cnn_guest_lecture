{
 "cells": [
  {
   "cell_type": "markdown",
   "metadata": {},
   "source": [
    "<a id='sectionTop'></a>\n",
    "# Image Classification Demo\n",
    "## ImageNet retrained using Inception_v3 architecture\n",
    "\n",
    "[1. Data Prep](#section1)<br>\n",
    "[2. Retrain Model](#section2)<br>\n",
    "[3. Test It!](#section3)<br>"
   ]
  },
  {
   "cell_type": "markdown",
   "metadata": {},
   "source": [
    "<a id='section1'></a><span style=\"float:right\">[Back to Top](#sectionTop)</span>\n",
    "# 1. Data Prep\n",
    "\n",
    "1. Capture 10 seconds each of video for 3 students. Same background.\n",
    "1. Capture 4 pictures of each student, 1 with same background, 3 different backgrounds.\n",
    "1. Transfer video/images from phone to laptop<br>\n",
    "    Connect Phone to Laptop, Copy files --> DCIM/Camera<br>\n",
    "    Copy videos to: Video_Files on desktop --> /Users/epreble/Desktop/Video_Files/<br>\n",
    "        Rename videos to student names\n",
    "    Copy test images to: Student Test Images shortcut\n",
    "        Rename images to student names#\n",
    "    Create NAME directories in /Users/epreble/tensorflow-for-poets-2/tf_files/recognize_students/\n",
    "1. Convert 3 videos from mp4 to jpg"
   ]
  },
  {
   "cell_type": "code",
   "execution_count": 1,
   "metadata": {
    "collapsed": true
   },
   "outputs": [],
   "source": [
    "import cv2\n",
    "import os\n",
    "\n",
    "def video_to_frames(video, path_output_dir):\n",
    "    # extract frames from a video and save to directory as 'x.png' where\n",
    "    # x is the frame index\n",
    "    vidcap = cv2.VideoCapture(video)\n",
    "    count = 0\n",
    "    while vidcap.isOpened():\n",
    "        success, image = vidcap.read()\n",
    "        if success:\n",
    "            cv2.imwrite(os.path.join(path_output_dir, '%d.jpg') % count, image)\n",
    "            count += 1\n",
    "        else:\n",
    "            break\n",
    "    cv2.destroyAllWindows()\n",
    "    vidcap.release()"
   ]
  },
  {
   "cell_type": "code",
   "execution_count": 7,
   "metadata": {
    "collapsed": true
   },
   "outputs": [],
   "source": [
    "# NAME.mp4 - \n",
    "video_path = '/Users/epreble/Desktop/Video_Files/NAME1.mp4'\n",
    "output_image_path = '/Users/epreble/tensorflow-for-poets-2/tf_files/recognize_students/NAME1/'\n",
    "video_to_frames(video_path, output_image_path)"
   ]
  },
  {
   "cell_type": "code",
   "execution_count": 8,
   "metadata": {
    "collapsed": true
   },
   "outputs": [],
   "source": [
    "# NAME.mp4 - \n",
    "video_path = '/Users/epreble/Desktop/Video_Files/NAME2.mp4'\n",
    "output_image_path = '/Users/epreble/tensorflow-for-poets-2/tf_files/recognize_students/NAME2/'\n",
    "video_to_frames(video_path, output_image_path)"
   ]
  },
  {
   "cell_type": "code",
   "execution_count": 9,
   "metadata": {
    "collapsed": true
   },
   "outputs": [],
   "source": [
    "# NAME.mp4 - \n",
    "video_path = '/Users/epreble/Desktop/Video_Files/NAME3.mp4'\n",
    "output_image_path = '/Users/epreble/tensorflow-for-poets-2/tf_files/recognize_students/NAME3/'\n",
    "video_to_frames(video_path, output_image_path)"
   ]
  },
  {
   "cell_type": "markdown",
   "metadata": {},
   "source": [
    "<a id='section2'></a><span style=\"float:right\">[Back to Top](#sectionTop)</span>\n",
    "# 2. Retrain Model"
   ]
  },
  {
   "cell_type": "markdown",
   "metadata": {},
   "source": [
    "4 mins to do ~1000 bottlenecks\n",
    "<br>2 mins to train 500 steps \n",
    "<br>20 mins to train 4000 steps\n",
    "\n",
    "**Start up Docker Tensorflow Container:**\n",
    "<br>```docker run -it --publish 6006:6006 --name ep_tensorflow --volume ${HOME}/tensorflow-for-poets-2/:/tensorflow-for-poets-2 --workdir /tensorflow-for-poets-2 gcr.io/tensorflow/tensorflow:1.1.0 bash```\n",
    "\n",
    "If need to stop a previous docker container:\n",
    "<br>docker ps -a (list containers)\n",
    "<br>docker stop container\n",
    "<br>docker rm container\n",
    "\n",
    "**Run this script to retrain the model with 500 iterations**\n",
    "<br>```python -m scripts.retrain \\\n",
    "  --bottleneck_dir=tf_files/bottlenecks \\\n",
    "  --how_many_training_steps=500 \\\n",
    "  --model_dir=tf_files/models/ \\\n",
    "  --summaries_dir=tf_files/training_summaries/inception_v3 \\\n",
    "  --output_graph=tf_files/output/students_500_graph.pb \\\n",
    "  --output_labels=tf_files/output/students_500_labels.txt \\\n",
    "  --architecture=inception_v3 \\\n",
    "  --image_dir=tf_files/recognize_students```\n",
    "  \n",
    "**Run this script to retrain the model with 4000 iterations**\n",
    "<br>```python -m scripts.retrain \\\n",
    "  --bottleneck_dir=tf_files/bottlenecks \\\n",
    "  --how_many_training_steps=4000 \\\n",
    "  --model_dir=tf_files/models/ \\\n",
    "  --summaries_dir=tf_files/training_summaries/inception_v3 \\\n",
    "  --output_graph=tf_files/output/students_4000_graph.pb \\\n",
    "  --output_labels=tf_files/output/students_4000_labels.txt \\\n",
    "  --architecture=inception_v3 \\\n",
    "  --image_dir=tf_files/recognize_students```"
   ]
  },
  {
   "cell_type": "markdown",
   "metadata": {},
   "source": [
    "<a id='section3'></a><span style=\"float:right\">[Back to Top](#sectionTop)</span>\n",
    "# 3. Test it!"
   ]
  },
  {
   "cell_type": "markdown",
   "metadata": {},
   "source": [
    "```python -m scripts.label_image \\\n",
    "    --graph=tf_files/output/students_500_graph.pb  \\\n",
    "    --labels=tf_files/output/students_500_labels.txt  \\\n",
    "    --image=test_images/recognize_students/NAME1.jpg```\n",
    "\n",
    "```python -m scripts.label_image \\\n",
    "    --graph=tf_files/output/students_4000_graph.pb  \\\n",
    "    --labels=tf_files/output/students_4000_labels.txt  \\\n",
    "    --image=test_images/recognize_students/NAME1.jpg```\n",
    "\n",
    "<center></center> | <center></center> | <center></center> | <center></center>\n",
    "- | - | - | -\n",
    "<center>**Name**</center>|<center>**Image #**</center>|<center>**500 Iterations**</center>|<center>**4000 Iterations**</center>\n",
    "Cross Entropy||0.xxx|0.xxx\n",
    "NAME|1||\n",
    "|2||\n",
    "|3||\n",
    "|4||\n",
    "NAME|1||\n",
    "|2||\n",
    "|3||\n",
    "|4||\n",
    "NAME|1||\n",
    "|2||\n",
    "|3||\n",
    "|4||\n",
    "\n",
    "<font color=\"FF0000\">xx<br>(NAME = xx)</font>"
   ]
  },
  {
   "cell_type": "code",
   "execution_count": null,
   "metadata": {
    "collapsed": true
   },
   "outputs": [],
   "source": []
  }
 ],
 "metadata": {
  "kernelspec": {
   "display_name": "Python 3",
   "language": "python",
   "name": "python3"
  },
  "language_info": {
   "codemirror_mode": {
    "name": "ipython",
    "version": 3
   },
   "file_extension": ".py",
   "mimetype": "text/x-python",
   "name": "python",
   "nbconvert_exporter": "python",
   "pygments_lexer": "ipython3",
   "version": "3.6.2"
  }
 },
 "nbformat": 4,
 "nbformat_minor": 2
}
